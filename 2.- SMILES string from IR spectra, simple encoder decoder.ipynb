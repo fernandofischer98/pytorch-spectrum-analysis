{
 "cells": [
  {
   "cell_type": "markdown",
   "id": "92a4acfe",
   "metadata": {},
   "source": [
    "# 2.- SMILES string from IR spectra, simple encoder decoder"
   ]
  },
  {
   "cell_type": "markdown",
   "id": "8468cd30",
   "metadata": {},
   "source": [
    "We are going to build an algortihm that will translate a given IR spectrum to a SMILES sequence. The algorithm is based on the common Encoder Decoder structure. This algorithm is highly based on Ben Trevetts work https://github.com/bentrevett/pytorch-seq2seq \"1 - Sequence to Sequence Learning with Neural Networks\". The main deviation from the paper he based his algorithm on, is that instead of using a Recurrent Neural Network Encoder, we will use a Convolutional Encoder, mainly because we had promising results in our previous algorithm.\n",
    "\n",
    "It is important to mention that even though this algorithm converges, a very high accuracy shouldn't be expected. Besides using a small very small dataset, the IR spectrum has never been known to have all the information needed to generate a full molecular structure. \n",
    "\n",
    "If you have any suggestions, your feedback would be appreciated"
   ]
  },
  {
   "cell_type": "markdown",
   "id": "b095bfb1",
   "metadata": {},
   "source": [
    "SMILES or \"Simplified molecular-input line-entry system\" is a representation of molecular identity. All molecules identities were converted to this format using rdkit. The use of rdkit for this conversion is not included in this file.\n",
    "\n",
    "An example: \n",
    "\n",
    "![alternative text](./assets/molecule 1 with smiles.jpg)\n",
    "\n"
   ]
  },
  {
   "cell_type": "markdown",
   "id": "22f0f4c3",
   "metadata": {},
   "source": [
    "The algorithms strusture and computations looks like this\n",
    "\n",
    "![alternative text](./assets/Arqui 1.png)\n",
    "![alternative text](./assets/Arqui 2.png)"
   ]
  },
  {
   "cell_type": "code",
   "execution_count": null,
   "id": "57f4151a",
   "metadata": {},
   "outputs": [],
   "source": []
  }
 ],
 "metadata": {
  "kernelspec": {
   "display_name": "Python 3",
   "language": "python",
   "name": "python3"
  },
  "language_info": {
   "codemirror_mode": {
    "name": "ipython",
    "version": 3
   },
   "file_extension": ".py",
   "mimetype": "text/x-python",
   "name": "python",
   "nbconvert_exporter": "python",
   "pygments_lexer": "ipython3",
   "version": "3.8.8"
  }
 },
 "nbformat": 4,
 "nbformat_minor": 5
}

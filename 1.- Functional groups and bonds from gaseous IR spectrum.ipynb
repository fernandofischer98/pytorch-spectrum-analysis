{
 "cells": [
  {
   "cell_type": "markdown",
   "id": "50eb3191",
   "metadata": {},
   "source": [
    "## 1.- Functional groups and bonds from gaseous IR spectrum"
   ]
  },
  {
   "cell_type": "markdown",
   "id": "4f1374f4",
   "metadata": {},
   "source": [
    "We are going to build a deep learning model using pytorch, for the detection of presence or absense of certain types of bonds/functional groups, from the IR spectrum of a compound.\n",
    "\n",
    "The database can be purchased here https://www.nist.gov/srd/nist-standard-reference-database-35. It contains 5308 compound IR spectrums.\n",
    "\n",
    "First step is to prepare the data, so we will look at the entire database, one by one and asign each compound a vector of nine values of zeros and ones, representing the bonds/fuctional groups present in the molecule. The 9 bonds/functional groups selected are: c=c, c☰c, Carboxilic Acid, c☰N, Non cyclic Ester, ketone, O-H, Carbonyl and primary Amine, for example:\n",
    "\n",
    "![alternative text](./assets/99-96-7 vectorizacion.jpg)\n",
    "\n",
    "This vector will be our target and the absorbance values of each one of the compounds will be our input. The database looks something like this:.\n",
    "\n",
    "![alternative text](./assets/dataframe.jpg)\n",
    "\n",
    "Now we will get on with the coding and import a few libraries"
   ]
  },
  {
   "cell_type": "code",
   "execution_count": 1,
   "id": "73e54e38",
   "metadata": {},
   "outputs": [],
   "source": [
    "import torch\n",
    "import torch.nn as nn\n",
    "import pandas as pd\n",
    "from torch import nn, optim\n",
    "from torch.utils.data import Dataset, DataLoader\n",
    "\n",
    "import numpy as np\n",
    "import matplotlib.pyplot as plt\n",
    "\n",
    "import time\n",
    "import math\n",
    "import random"
   ]
  },
  {
   "cell_type": "markdown",
   "id": "11b1adc6",
   "metadata": {},
   "source": [
    "## Data prep\n",
    "Let's load the dataframe and save absorbances and bond vector to two separate lists."
   ]
  },
  {
   "cell_type": "code",
   "execution_count": 2,
   "id": "d6c4b658",
   "metadata": {},
   "outputs": [],
   "source": [
    "df=pd.read_pickle('df.plk')\n",
    "\n",
    "#bonds\n",
    "\n",
    "bonds=[]\n",
    "for x in range(4836):\n",
    "    bonds.append(df.iloc[x,0])\n",
    "    \n",
    "#absorbances\n",
    "\n",
    "\n",
    "absor=[]\n",
    "for x in range(4836):\n",
    "    ab_values=[]\n",
    "    for y in range(1,826):\n",
    "        ab_values.append(df.iloc[x,y])\n",
    "    absor.append(ab_values)\n"
   ]
  },
  {
   "cell_type": "markdown",
   "id": "94a05ac4",
   "metadata": {},
   "source": [
    "Create a dataset class to contain and handle the two lists as tensors"
   ]
  },
  {
   "cell_type": "code",
   "execution_count": 3,
   "id": "cfcd0d0b",
   "metadata": {},
   "outputs": [],
   "source": [
    "class dataset(Dataset):\n",
    "    def __init__(self, bonds, absorbances):\n",
    "        self.x=torch.tensor(absorbances).view(-1,1,825)\n",
    "        self.y=torch.tensor(bonds).type(torch.FloatTensor) \n",
    "        self.len=len(bonds)\n",
    "    def __getitem__(self, index):\n",
    "        return self.x[index], self.y[index]\n",
    "    def __len__(self):\n",
    "        return self.len"
   ]
  },
  {
   "cell_type": "markdown",
   "id": "55340b2a",
   "metadata": {},
   "source": [
    "Create an instance of the dataset class asigning it our two lists, and then randomly split the data in to training set and validation set. No Test will be used, mostly due to the size of the dataset.\n",
    "\n",
    "The final accuracy of the model was abtained from the performance on the validation set. This can sometimes not be good practice, due to the overfitting effect a human can have at the moment of tunning hyperparameters."
   ]
  },
  {
   "cell_type": "code",
   "execution_count": 4,
   "id": "b2bbf67f",
   "metadata": {
    "scrolled": true
   },
   "outputs": [],
   "source": [
    "data=dataset(bonds=bonds, absorbances=absor)\n",
    "\n",
    "train_set, val_set= torch.utils.data.random_split(data, [3869, 967], generator=torch.Generator().manual_seed(42))"
   ]
  },
  {
   "cell_type": "markdown",
   "id": "4c3f13b4",
   "metadata": {},
   "source": [
    "Now lets create a trainloader and validationloader instance to see how the data will be plugged into the neural net, to make sure the shape is correct. Shape should be the input shape of a 1d conv layer (batch size, num input channels, length of sequence)"
   ]
  },
  {
   "cell_type": "code",
   "execution_count": 5,
   "id": "794b6306",
   "metadata": {},
   "outputs": [
    {
     "name": "stdout",
     "output_type": "stream",
     "text": [
      "absorbance:  tensor([[[3.6960e-04, 3.6520e-04, 3.2560e-04,  ..., 0.0000e+00,\n",
      "          2.0240e-04, 5.3240e-04]],\n",
      "\n",
      "        [[1.6640e-04, 1.2800e-04, 6.4000e-05,  ..., 7.2352e-03,\n",
      "          3.5680e-03, 1.4432e-03]],\n",
      "\n",
      "        [[5.1540e-03, 5.1969e-03, 5.1540e-03,  ..., 1.0523e-02,\n",
      "          1.4045e-02, 1.6149e-02]],\n",
      "\n",
      "        ...,\n",
      "\n",
      "        [[1.4000e-04, 1.3000e-04, 1.4000e-04,  ..., 1.6500e-04,\n",
      "          2.4000e-04, 4.5500e-04]],\n",
      "\n",
      "        [[1.8900e-04, 1.9320e-04, 1.7640e-04,  ..., 1.9740e-04,\n",
      "          2.4360e-04, 3.1080e-04]],\n",
      "\n",
      "        [[2.4320e-04, 1.4440e-04, 1.4440e-04,  ..., 0.0000e+00,\n",
      "          1.5960e-04, 3.4960e-04]]])\n",
      "bonds:  tensor([[1., 0., 0., 0., 0., 0., 0., 0., 0.],\n",
      "        [0., 0., 0., 0., 0., 0., 0., 0., 0.],\n",
      "        [0., 0., 0., 0., 1., 1., 0., 1., 0.],\n",
      "        [1., 0., 0., 0., 0., 0., 1., 0., 0.],\n",
      "        [0., 0., 0., 0., 0., 0., 0., 0., 0.],\n",
      "        [0., 0., 0., 0., 0., 0., 0., 0., 0.],\n",
      "        [0., 0., 0., 0., 1., 0., 0., 1., 0.],\n",
      "        [1., 0., 0., 0., 0., 0., 0., 1., 0.],\n",
      "        [0., 0., 0., 0., 0., 0., 0., 0., 0.],\n",
      "        [0., 0., 0., 0., 0., 0., 1., 0., 0.],\n",
      "        [1., 0., 0., 0., 1., 0., 0., 1., 0.],\n",
      "        [1., 0., 0., 0., 0., 1., 0., 1., 0.],\n",
      "        [0., 0., 0., 0., 0., 0., 0., 0., 0.],\n",
      "        [0., 0., 0., 0., 0., 0., 0., 0., 0.],\n",
      "        [0., 0., 0., 0., 0., 0., 1., 0., 0.],\n",
      "        [1., 0., 0., 0., 0., 0., 0., 0., 0.],\n",
      "        [1., 0., 0., 0., 1., 0., 0., 1., 0.],\n",
      "        [1., 0., 0., 0., 0., 1., 0., 1., 0.],\n",
      "        [0., 0., 0., 1., 1., 0., 0., 1., 0.],\n",
      "        [1., 0., 0., 0., 0., 1., 1., 1., 0.],\n",
      "        [0., 0., 0., 0., 0., 0., 1., 0., 0.],\n",
      "        [0., 0., 0., 0., 0., 0., 0., 0., 0.],\n",
      "        [0., 0., 0., 0., 0., 0., 1., 0., 0.],\n",
      "        [0., 0., 0., 0., 0., 0., 1., 0., 0.],\n",
      "        [0., 0., 0., 0., 0., 0., 1., 0., 0.],\n",
      "        [1., 0., 0., 0., 0., 0., 0., 0., 0.],\n",
      "        [1., 0., 0., 0., 1., 0., 0., 1., 0.],\n",
      "        [0., 0., 0., 0., 0., 0., 0., 0., 0.],\n",
      "        [0., 0., 0., 0., 0., 0., 0., 0., 0.],\n",
      "        [1., 0., 0., 0., 0., 0., 0., 0., 0.],\n",
      "        [0., 0., 0., 0., 1., 0., 0., 1., 0.],\n",
      "        [0., 0., 0., 0., 0., 0., 1., 0., 0.],\n",
      "        [1., 0., 0., 0., 0., 0., 0., 0., 0.],\n",
      "        [0., 0., 0., 0., 0., 0., 0., 0., 0.],\n",
      "        [0., 0., 0., 0., 0., 0., 0., 1., 0.],\n",
      "        [0., 0., 0., 0., 0., 0., 1., 0., 0.],\n",
      "        [0., 0., 0., 0., 0., 0., 0., 0., 0.],\n",
      "        [0., 0., 0., 0., 0., 0., 1., 0., 0.],\n",
      "        [1., 0., 0., 0., 0., 0., 0., 0., 0.],\n",
      "        [1., 0., 0., 0., 0., 0., 0., 0., 0.]])\n"
     ]
    }
   ],
   "source": [
    "train_loader=DataLoader(dataset=train_set, batch_size=40)\n",
    "val_loader=DataLoader(dataset=val_set, batch_size=69)\n",
    "\n",
    "#one example, this has batch_size sets\n",
    "\n",
    "print('absorbance: ', list(train_loader)[0][0])\n",
    "print('bonds: ', list(train_loader)[0][1])"
   ]
  },
  {
   "cell_type": "markdown",
   "id": "b60f094e",
   "metadata": {},
   "source": [
    "## Neural Net \n",
    "\n",
    "The following diagram contains the operations performed on a 1 layer convolution with 1 input channel(the Spectra), n output channels(activation maps).\n",
    "\n",
    "![alternative text](./assets/1DConvolution.jpg)\n",
    "\n",
    "\n",
    "The convolution ends at the activation maps and the pooling starts afterwards. \n",
    "\n",
    "Both convolution and pooling are represented with a stride of 1 (Meaning the amount of values jumped to fill each value for the activation map or the pooled vector), and a kernel size of 3 (Meaning the amount of values taken to fill out each value for the activation map or the pooled vector), the convolution kernel is represented by the Fluorescent green box, and the pooling kernel by the light blue box.\n",
    "\n",
    "K are the weigths of the kernel, each out channel or activation map being built from the spectrum values is \"built\" by using a certain set of weights (or numbers), these weights change during training, each channel will be a representation of a different feature of the input, for example, one kernel might be good at detecting peaks, of course these \"features\" can be highly complex. \n",
    "\n",
    "Our network will have 2 convolutional + pooling layers stacked one after the other, and the final number of pooled vectors is concatenated and passed though three fully connected layers with 9 output neurons with sigmoid activations to force the number to be between 0 and 1.\n",
    "\n"
   ]
  },
  {
   "cell_type": "code",
   "execution_count": 6,
   "id": "59c5383a",
   "metadata": {},
   "outputs": [],
   "source": [
    "def conv_output_size(Lin, kernel_size=1, stride=1, pad=0, dilation=1):\n",
    "    from math import floor\n",
    "    size = floor( ((Lin + (2 * pad) - ( dilation * (kernel_size - 1) ) - 1 )/ stride) + 1)\n",
    "    return size"
   ]
  },
  {
   "cell_type": "markdown",
   "id": "8ffda80e",
   "metadata": {},
   "source": [
    "Next we define the structure using nn.Module"
   ]
  },
  {
   "cell_type": "code",
   "execution_count": 7,
   "id": "ec20521d",
   "metadata": {},
   "outputs": [],
   "source": [
    "class cnn(nn.Module):\n",
    "    def __init__(self, out_1, out_2, conv_o_size, p):\n",
    "        super(cnn,self).__init__()\n",
    "        self.cnn1=nn.Conv1d(in_channels=1, out_channels=out_1, kernel_size=4, stride=1, padding=0)\n",
    "        self.maxpool1=nn.MaxPool1d(kernel_size=3, stride=1)\n",
    "        \n",
    "        self.cnn2=nn.Conv1d(in_channels=out_1, out_channels=out_2, kernel_size=3, stride=1, padding=0)\n",
    "        self.maxpool2=nn.MaxPool1d(kernel_size=3, stride=1)\n",
    "        \n",
    "        \n",
    "        self.dropout=nn.Dropout(p)\n",
    "        self.linear=nn.Linear(conv_o_size*out_2, 3000)\n",
    "        self.dropout2=nn.Dropout(p=0.3)\n",
    "        self.linear2=nn.Linear(3000, 1000)\n",
    "        self.dropout3=nn.Dropout(p=0.3)\n",
    "        self.linear3=nn.Linear(1000, 9)\n",
    "\n",
    "        \n",
    "        \n",
    "    def forward(self, x):\n",
    "        x=self.cnn1(x)\n",
    "        x=torch.relu(x)\n",
    "        x=self.maxpool1(x)\n",
    "        \n",
    "        x=self.cnn2(x)\n",
    "        x=torch.relu(x)\n",
    "        x=self.maxpool2(x)\n",
    "        \n",
    "        x=x.view(x.size(0), -1) #reshape to have shape: (*,input length) * means any number of dimensions\n",
    "        x=self.dropout(x)\n",
    "        x=self.linear(x)\n",
    "        \n",
    "        x=torch.relu(x)\n",
    "        x=self.dropout2(x)\n",
    "        x=self.linear2(x)\n",
    "        \n",
    "        x=torch.relu(x)\n",
    "        x=self.dropout3(x)\n",
    "        x=self.linear3(x)\n",
    "        \n",
    "        x=torch.sigmoid(x)\n",
    "        \n",
    "        return x"
   ]
  },
  {
   "cell_type": "markdown",
   "id": "9a4b6ff0",
   "metadata": {},
   "source": [
    "## Training Neural Net\n",
    "\n",
    "We will set all seeds to get the same result each time"
   ]
  },
  {
   "cell_type": "code",
   "execution_count": 8,
   "id": "09c801ad",
   "metadata": {},
   "outputs": [],
   "source": [
    "seed=4234 \n",
    "random.seed(seed)\n",
    "np.random.seed(seed)\n",
    "torch.manual_seed(seed)\n",
    "torch.cuda.manual_seed(seed)\n",
    "torch.backends.cudnn.deterministic = True"
   ]
  },
  {
   "cell_type": "markdown",
   "id": "84253caf",
   "metadata": {},
   "source": [
    "Next we calculate the size of the input to the first fully connected layer (this is internally multiplied by the number of output channels of last pooling layer as can be noted when defining the Net's structure."
   ]
  },
  {
   "cell_type": "code",
   "execution_count": 9,
   "id": "25009681",
   "metadata": {},
   "outputs": [],
   "source": [
    "o1=conv_output_size(825, kernel_size=4, stride=1)\n",
    "o2=conv_output_size(o1, kernel_size=3, stride=1)\n",
    "\n",
    "o3=conv_output_size(o2, kernel_size=3, stride=1)\n",
    "o4=conv_output_size(o3, kernel_size=3, stride=1)"
   ]
  },
  {
   "cell_type": "markdown",
   "id": "eb320c58",
   "metadata": {},
   "source": [
    "Defining our device and creating an instance of the neural net"
   ]
  },
  {
   "cell_type": "code",
   "execution_count": 10,
   "id": "fca09137",
   "metadata": {},
   "outputs": [],
   "source": [
    "device = torch.device('cuda' if torch.cuda.is_available() else 'cpu')"
   ]
  },
  {
   "cell_type": "code",
   "execution_count": 11,
   "id": "dd10fc51",
   "metadata": {},
   "outputs": [],
   "source": [
    "model=cnn(out_1=18, out_2=36, conv_o_size=o4, p=0.5).to(device)"
   ]
  },
  {
   "cell_type": "markdown",
   "id": "46264b0a",
   "metadata": {},
   "source": [
    "Defining the optimizer parameters and criterion follows. Adagrad smoothens the fluctuations that dropout creates by using a variable learning rate."
   ]
  },
  {
   "cell_type": "code",
   "execution_count": 12,
   "id": "e5db348c",
   "metadata": {},
   "outputs": [],
   "source": [
    "criterion=nn.MSELoss()\n",
    "optimizer=torch.optim.Adagrad(model.parameters(), lr=0.001)"
   ]
  },
  {
   "cell_type": "markdown",
   "id": "4fd14c62",
   "metadata": {},
   "source": [
    "Create a function that will keep track of the training time"
   ]
  },
  {
   "cell_type": "code",
   "execution_count": 13,
   "id": "1e9d4d9c",
   "metadata": {},
   "outputs": [],
   "source": [
    "def Training_time(start_time, end_time):\n",
    "    elapsed_time = end_time - start_time\n",
    "    elapsed_mins = int(elapsed_time / 60)\n",
    "    elapsed_secs = int(elapsed_time - (elapsed_mins * 60))\n",
    "    return elapsed_mins, elapsed_secs"
   ]
  },
  {
   "cell_type": "markdown",
   "id": "1b556252",
   "metadata": {},
   "source": [
    "For the training, we use the train_set and to evaluate performace of the model on unknown data we use the val_set. To calculate performance output values are rounded to make them either a 1 or a 0, if we wouldn't round them we can get the probability the algorith asigns to the presence or absense of the respective bond. So lets use a standard training procedure and plot the convergence."
   ]
  },
  {
   "cell_type": "code",
   "execution_count": 14,
   "id": "5c077ef7",
   "metadata": {},
   "outputs": [],
   "source": [
    "def train_model(epochs, optimizer, model, train_loader, validation_loader):\n",
    "    \n",
    "    \n",
    "    global accuracy_list\n",
    "    global loss_train\n",
    "    global loss_val\n",
    "    global accuracy_list_bonds\n",
    "    \n",
    "    accuracy_list_bonds=[[],[],[],[],[],[],[],[],[]]\n",
    "    \n",
    "    \n",
    "    loss_train=[]\n",
    "    loss_val=[]\n",
    "    accuracy_list=[]\n",
    "    \n",
    "    \n",
    "    start_time=time.time()\n",
    "    for epoch in range(epochs):\n",
    "        for x,y in train_loader:\n",
    "            model.train()\n",
    "            x,y=x.to(device), y.to(device) #Send tensors to GPU\n",
    "            optimizer.zero_grad() #Clear Gradients in optimizer\n",
    "            yhat=model(x) #Make prediction\n",
    "            loss=criterion(yhat,y) #calculate how off prediction is\n",
    "            loss.backward() #Compute gradient of loss vs all learnable parameters\n",
    "            optimizer.step() #Update parameters parameter2=parameter1-Learning_Rate(dL/dparameter)\n",
    "            \n",
    "            \n",
    "        #Rest of the code is to graph accuracy and validation Loss and calculate time of training.\n",
    "            \n",
    "        correct=0\n",
    "        incorrect=0\n",
    "        \n",
    "        #\n",
    "        corr=[0]*9\n",
    "        incorr=[0]*9\n",
    "        \n",
    "        for l in range (9):\n",
    "            corr[l]=0\n",
    "        \n",
    "        \n",
    "        \n",
    "        for x_val, y_val in validation_loader:\n",
    "            model.eval()\n",
    "            x_val, y_val=x_val.to(device), y_val.to(device)\n",
    "            z=model(x_val)\n",
    "            loss_v=criterion(z, y_val)\n",
    "            correct+=(torch.round(z)==y_val).sum().cpu()\n",
    "            incorrect+=(torch.round(z)!=y_val).sum().cpu()\n",
    "            \n",
    "            for l in range(9): \n",
    "                corr[l]+=(torch.round(z[:,l])==y_val[:,l]).sum().cpu()\n",
    "                incorr[l]+=(torch.round(z[:,l])!=y_val[:,l]).sum().cpu()\n",
    "\n",
    "        accuracy=correct/(correct+incorrect)\n",
    "        \n",
    "        prec=[0]*9 \n",
    "        \n",
    "        \n",
    "        for l in range(9):\n",
    "            prec[l]=corr[l]/(corr[l]+incorr[l])\n",
    "        \n",
    "        \n",
    "        loss_train.append(loss.data.cpu())\n",
    "        loss_val.append(loss_v.data.cpu())\n",
    "        accuracy_list.append(accuracy)\n",
    "        \n",
    "        for l in range(9):\n",
    "            accuracy_list_bonds[l].append(prec[l])\n",
    "        \n",
    "\n",
    "        \n",
    "    end_time=time.time()\n",
    "    \n",
    "    train_mins, train_secs = Training_time(start_time, end_time)\n",
    "    \n",
    "    \n",
    "    print('Time: ', train_mins, ':', train_secs)\n"
   ]
  },
  {
   "cell_type": "code",
   "execution_count": 15,
   "id": "b450d347",
   "metadata": {},
   "outputs": [
    {
     "name": "stderr",
     "output_type": "stream",
     "text": [
      "C:\\Users\\ferna\\anaconda3\\lib\\site-packages\\torch\\nn\\functional.py:652: UserWarning: Named tensors and all their associated APIs are an experimental feature and subject to change. Please do not use them for anything important until they are released as stable. (Triggered internally at  ..\\c10/core/TensorImpl.h:1156.)\n",
      "  return torch.max_pool1d(input, kernel_size, stride, padding, dilation, ceil_mode)\n"
     ]
    },
    {
     "name": "stdout",
     "output_type": "stream",
     "text": [
      "Time:  88 : 21\n"
     ]
    }
   ],
   "source": [
    "epochs=1000\n",
    "train_model(epochs,optimizer,model,train_loader, val_loader)"
   ]
  },
  {
   "cell_type": "code",
   "execution_count": 16,
   "id": "fdf16d88",
   "metadata": {},
   "outputs": [
    {
     "data": {
      "image/png": "[encoded data removed]",
      "text/plain": [
       "<Figure size 432x288 with 1 Axes>"
      ]
     },
     "metadata": {
      "needs_background": "light"
     },
     "output_type": "display_data"
    },
    {
     "data": {
      "image/png": "[encoded data removed]",
      "text/plain": [
       "<Figure size 432x288 with 1 Axes>"
      ]
     },
     "metadata": {
      "needs_background": "light"
     },
     "output_type": "display_data"
    }
   ],
   "source": [
    "xaxis=torch.arange(0, epochs, 1)\n",
    "\n",
    "plt.plot(xaxis.numpy(), loss_train, label='Train Loss')\n",
    "plt.plot(xaxis.numpy(), loss_val, label='Validation Loss')\n",
    "plt.xlabel('epoch')\n",
    "plt.legend()\n",
    "plt.grid(linestyle = '--')\n",
    "plt.show()\n",
    "                                    \n",
    "plt.plot(xaxis.numpy(), accuracy_list, label='Accuracy')\n",
    "plt.plot(xaxis.numpy(), accuracy_list_bonds[0], label='c=c')\n",
    "plt.plot(xaxis.numpy(), accuracy_list_bonds[1], label='c#c')\n",
    "plt.plot(xaxis.numpy(), accuracy_list_bonds[2], label='Carboxilic Acid')\n",
    "plt.plot(xaxis.numpy(), accuracy_list_bonds[3], label='Nitrile')\n",
    "plt.plot(xaxis.numpy(), accuracy_list_bonds[4], label='Ester (non cyclic)')\n",
    "plt.plot(xaxis.numpy(), accuracy_list_bonds[5], label='Ketone')\n",
    "plt.plot(xaxis.numpy(), accuracy_list_bonds[6], label='O-H')\n",
    "plt.plot(xaxis.numpy(), accuracy_list_bonds[7], label='Carbonyl')\n",
    "plt.plot(xaxis.numpy(), accuracy_list_bonds[8], label='Primary Amine')\n",
    "plt.rcParams[\"figure.figsize\"] = (15,10)\n",
    "plt.legend()\n",
    "#plt.grid(linestyle = '--')\n",
    "plt.minorticks_on()\n",
    "plt.grid(b=True, which='major', color='b', linestyle='-')\n",
    "plt.grid(b=True, which='minor', color='r', linestyle='--')\n",
    "plt.ylim(0.77,1)\n",
    "plt.show()"
   ]
  },
  {
   "cell_type": "markdown",
   "id": "c1311142",
   "metadata": {},
   "source": [
    "Print the last value of accuracy"
   ]
  },
  {
   "cell_type": "code",
   "execution_count": 17,
   "id": "811d027d",
   "metadata": {},
   "outputs": [
    {
     "data": {
      "text/plain": [
       "tensor(0.9847)"
      ]
     },
     "execution_count": 17,
     "metadata": {},
     "output_type": "execute_result"
    }
   ],
   "source": [
    "accuracy_list[-1]"
   ]
  },
  {
   "cell_type": "markdown",
   "id": "9f0b203f",
   "metadata": {},
   "source": [
    "From the training and validation Loss vs Epoch graph, one can evidence the positive impact of dropout, the algorithm seems to converge without overfitting, indefinitely. \n",
    "\n",
    "Lets write a script that will calculate the percentage of correctly classified as present and correctly classified as absent for a given functional group"
   ]
  },
  {
   "cell_type": "code",
   "execution_count": 18,
   "id": "37531ed0",
   "metadata": {},
   "outputs": [
    {
     "name": "stdout",
     "output_type": "stream",
     "text": [
      "correctly classified as present:  0.9615384615384616\n",
      "correctly classified as absent:  0.9976825028968713\n"
     ]
    }
   ],
   "source": [
    "#0: c=c, 1: c#c, 2: Carboxilyc Acid, 3: Nitrile, 4: Ester(non cyclic), 5: Ketone, 6: O-H, 7: Carbonyl, 8: Primary Amine\n",
    "\n",
    "functional_group=4 #Ester\n",
    "\n",
    "present_c=0\n",
    "present_incorrect=0\n",
    "\n",
    "absent_correct=0\n",
    "absent_incorrect=0\n",
    "\n",
    "for x in range(967):\n",
    "    spectra=val_set[x][0].view(-1,1,825)\n",
    "    spectra=spectra.to(device)\n",
    "    result=torch.round(model(spectra))\n",
    "    true=val_set[x][1][functional_group]\n",
    "    true=true.to(device)\n",
    "    \n",
    "    if true==result[0][functional_group] and result[0][functional_group]==1:\n",
    "        present_c+=1\n",
    "    if true!=result[0][functional_group] and result[0][functional_group]==1: \n",
    "        present_incorrect+=1\n",
    "    if true==result[0][functional_group] and result[0][functional_group]==0:\n",
    "        absent_correct+=1\n",
    "    if true!=result[0][functional_group] and result[0][functional_group]==0: \n",
    "        absent_incorrect+=1\n",
    "\n",
    "print('correctly classified as present: ', present_c/(present_c+present_incorrect))\n",
    "print('correctly classified as absent: ', absent_correct/(absent_correct+absent_incorrect))"
   ]
  },
  {
   "cell_type": "markdown",
   "id": "9068a199",
   "metadata": {},
   "source": [
    "Finally let's see the percentage of compounds the model was able to classify without any mistake (meaning, all present and absent bonds/functional groups correctly predicted as either present or absent"
   ]
  },
  {
   "cell_type": "code",
   "execution_count": 19,
   "id": "018d5ecb",
   "metadata": {},
   "outputs": [
    {
     "name": "stdout",
     "output_type": "stream",
     "text": [
      "Accuracy at predicting all 9 outputs correctly:  0.8810754912099276\n"
     ]
    }
   ],
   "source": [
    "#view identity of exact matching tensors\n",
    "c=0\n",
    "for x in range(967):\n",
    "    spectra=val_set[x][0].view(-1,1,825)\n",
    "    spectra=spectra.to(device)\n",
    "    result=torch.round(model(spectra))\n",
    "    true=val_set[x][1]\n",
    "    true=true.to(device)\n",
    "    \n",
    "    var=(true==result[0]).sum()\n",
    "    \n",
    "    if var==torch.tensor(9):\n",
    "        c+=1\n",
    "\n",
    "print('Accuracy at predicting all 9 outputs correctly: ', (c)/967)"
   ]
  },
  {
   "cell_type": "code",
   "execution_count": null,
   "id": "5520ede4",
   "metadata": {},
   "outputs": [],
   "source": []
  }
 ],
 "metadata": {
  "kernelspec": {
   "display_name": "Python 3",
   "language": "python",
   "name": "python3"
  },
  "language_info": {
   "codemirror_mode": {
    "name": "ipython",
    "version": 3
   },
   "file_extension": ".py",
   "mimetype": "text/x-python",
   "name": "python",
   "nbconvert_exporter": "python",
   "pygments_lexer": "ipython3",
   "version": "3.8.8"
  }
 },
 "nbformat": 4,
 "nbformat_minor": 5
}

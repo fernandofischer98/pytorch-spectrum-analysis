{
 "cells": [
  {
   "cell_type": "markdown",
   "id": "291e3637",
   "metadata": {},
   "source": [
    "## 1.- Functional groups and bonds from gaseous IR spectrum"
   ]
  },
  {
   "attachments": {},
   "cell_type": "markdown",
   "id": "9e05b69f",
   "metadata": {},
   "source": [
    "We are going to build a deep learning model using pytorch, for the detection of presence or absense of certain types of bonds/functional groups, from the IR spectrum of a compound.\n",
    "\n",
    "The database can be purchased here https://www.nist.gov/srd/nist-standard-reference-database-35.\n",
    "\n",
    "First step is to prepare the data, so we will look at the entire database, one by one and asign each compound a vector of nine values of zeros and ones, representing the bonds/fuctional groups present in the molecule. The 9 bonds/functional groups selected are: c=c, c☰c, Carboxilic Acid, c☰N, Non cyclic Ester, ketone, O-H, Carbonyl and primary Amine, for example:\n",
    "\n",
    "![alternative text](./assets/99-96-7 vectorizacion.jpg)\n",
    "\n",
    "This vector will be our target and the absorbance values of each one of the compounds will be our input. The database looks something like this:.\n",
    "\n",
    "![alternative text](./assets/dataframe.jpg)\n",
    "\n"
   ]
  },
  {
   "cell_type": "code",
   "execution_count": null,
   "id": "c71c410a",
   "metadata": {},
   "outputs": [],
   "source": []
  }
 ],
 "metadata": {
  "kernelspec": {
   "display_name": "Python 3",
   "language": "python",
   "name": "python3"
  },
  "language_info": {
   "codemirror_mode": {
    "name": "ipython",
    "version": 3
   },
   "file_extension": ".py",
   "mimetype": "text/x-python",
   "name": "python",
   "nbconvert_exporter": "python",
   "pygments_lexer": "ipython3",
   "version": "3.8.8"
  }
 },
 "nbformat": 4,
 "nbformat_minor": 5
}

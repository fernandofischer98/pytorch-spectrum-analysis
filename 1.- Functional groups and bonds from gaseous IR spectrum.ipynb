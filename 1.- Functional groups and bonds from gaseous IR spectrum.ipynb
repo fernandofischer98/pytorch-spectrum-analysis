{
 "cells": [
  {
   "cell_type": "markdown",
   "id": "beb0e09b",
   "metadata": {},
   "source": [
    "## 1.- Functional groups and bonds from gaseous IR spectrum"
   ]
  },
  {
   "attachments": {},
   "cell_type": "markdown",
   "id": "aea94bfd",
   "metadata": {},
   "source": [
    "![alternative text](pytorch-spectrum-analysis/assets/download.png)"
   ]
  },
  {
   "cell_type": "code",
   "execution_count": null,
   "id": "5541723c",
   "metadata": {},
   "outputs": [],
   "source": []
  }
 ],
 "metadata": {
  "kernelspec": {
   "display_name": "Python 3",
   "language": "python",
   "name": "python3"
  },
  "language_info": {
   "codemirror_mode": {
    "name": "ipython",
    "version": 3
   },
   "file_extension": ".py",
   "mimetype": "text/x-python",
   "name": "python",
   "nbconvert_exporter": "python",
   "pygments_lexer": "ipython3",
   "version": "3.8.8"
  }
 },
 "nbformat": 4,
 "nbformat_minor": 5
}

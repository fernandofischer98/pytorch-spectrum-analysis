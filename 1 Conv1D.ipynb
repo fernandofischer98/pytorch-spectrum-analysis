{
 "cells": [
  {
   "cell_type": "code",
   "execution_count": 2,
   "id": "dbbc79e6",
   "metadata": {},
   "outputs": [],
   "source": [
    "import torch\n",
    "import torch.nn as nn\n"
   ]
  },
  {
   "cell_type": "code",
   "execution_count": 3,
   "id": "e9c4820a",
   "metadata": {},
   "outputs": [],
   "source": [
    "class cnn(nn.Module):\n",
    "    def __init__(self, out_1=2): #parameters (parameters of system would go here)\n",
    "        super(cnn, self).__init__()\n",
    "        self.cnn1=nn.Conv1d(in_channels=1, out_channels=out_1, kernel_size=2, padding=0)#more paramters\n",
    "        \n",
    "    def forward(self, x): #x will contain the input\n",
    "        x=self.cnn1(x)\n",
    "        return x"
   ]
  },
  {
   "cell_type": "code",
   "execution_count": 13,
   "id": "06c97d1c",
   "metadata": {},
   "outputs": [],
   "source": [
    "model=cnn(1)"
   ]
  },
  {
   "cell_type": "code",
   "execution_count": 14,
   "id": "5b0c63b1",
   "metadata": {},
   "outputs": [
    {
     "data": {
      "text/plain": [
       "OrderedDict([('cnn1.weight', tensor([[[0.3848, 0.6112]]])),\n",
       "             ('cnn1.bias', tensor([0.2908]))])"
      ]
     },
     "execution_count": 14,
     "metadata": {},
     "output_type": "execute_result"
    }
   ],
   "source": [
    "model.state_dict()"
   ]
  },
  {
   "cell_type": "code",
   "execution_count": 15,
   "id": "e1bb69bb",
   "metadata": {},
   "outputs": [
    {
     "data": {
      "text/plain": [
       "tensor([[[0., 1., 0., 0.]]])"
      ]
     },
     "execution_count": 15,
     "metadata": {},
     "output_type": "execute_result"
    }
   ],
   "source": [
    "spectra=torch.zeros(1,1,4) #num of batches, num of channels, length of sequence\n",
    "spectra[0,0,1]=1\n",
    "spectra"
   ]
  },
  {
   "cell_type": "code",
   "execution_count": 16,
   "id": "e195cb2f",
   "metadata": {},
   "outputs": [
    {
     "data": {
      "text/plain": [
       "tensor([[[0.9019, 0.6755, 0.2908]]], grad_fn=<SqueezeBackward1>)"
      ]
     },
     "execution_count": 16,
     "metadata": {},
     "output_type": "execute_result"
    }
   ],
   "source": [
    "model(spectra)"
   ]
  },
  {
   "cell_type": "code",
   "execution_count": 17,
   "id": "d6da4587",
   "metadata": {},
   "outputs": [
    {
     "data": {
      "text/plain": [
       "0.9019999999999999"
      ]
     },
     "execution_count": 17,
     "metadata": {},
     "output_type": "execute_result"
    }
   ],
   "source": [
    "0.3848*0+1*0.6112+0.2908"
   ]
  },
  {
   "cell_type": "code",
   "execution_count": null,
   "id": "8cab016a",
   "metadata": {},
   "outputs": [],
   "source": []
  }
 ],
 "metadata": {
  "kernelspec": {
   "display_name": "Python 3",
   "language": "python",
   "name": "python3"
  },
  "language_info": {
   "codemirror_mode": {
    "name": "ipython",
    "version": 3
   },
   "file_extension": ".py",
   "mimetype": "text/x-python",
   "name": "python",
   "nbconvert_exporter": "python",
   "pygments_lexer": "ipython3",
   "version": "3.8.8"
  }
 },
 "nbformat": 4,
 "nbformat_minor": 5
}
